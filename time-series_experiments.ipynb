{
 "cells": [
  {
   "cell_type": "markdown",
   "metadata": {},
   "source": [
    "### Necessary imports"
   ]
  },
  {
   "cell_type": "code",
   "execution_count": 19,
   "metadata": {
    "ExecuteTime": {
     "end_time": "2018-11-10T16:41:02.688537Z",
     "start_time": "2018-11-10T16:41:02.680370Z"
    }
   },
   "outputs": [],
   "source": [
    "import warnings                                  # `do not disturbe` mode\n",
    "warnings.filterwarnings('ignore')\n",
    "\n",
    "import numpy as np                               # vectors and matrices\n",
    "import pandas as pd                              # tables and data manipulations\n",
    "import matplotlib.pyplot as plt                  # plots\n",
    "import seaborn as sns                            # more plots\n",
    "import datetime as dt\n",
    "\n",
    "from dateutil.relativedelta import relativedelta # working with dates with style\n",
    "from scipy.optimize import minimize              # for function minimization\n",
    "\n",
    "import statsmodels.formula.api as smf            # statistics and econometrics\n",
    "import statsmodels.tsa.api as smt\n",
    "import statsmodels.api as sm\n",
    "import scipy.stats as scs\n",
    "# import pandas_profiling\n",
    "\n",
    "from itertools import product                    # some useful functions\n",
    "from tqdm import tqdm_notebook\n",
    "from sklearn.base import BaseEstimator, TransformerMixin\n",
    "from statsmodels.tsa.api import ExponentialSmoothing\n",
    "from statsmodels.tsa.seasonal import seasonal_decompose\n",
    "from xgboost import XGBRegressor\n",
    "from lightgbm import LGBMRegressor\n",
    "from sklearn.linear_model import LinearRegression\n",
    "from sklearn.pipeline import Pipeline, FeatureUnion\n",
    "from sklearn.preprocessing import StandardScaler\n",
    "from sklearn.model_selection import GridSearchCV, RandomizedSearchCV\n",
    "from sklearn.tree import DecisionTreeRegressor\n",
    "from sklearn.ensemble import RandomForestRegressor\n",
    "from sklearn.metrics import make_scorer\n",
    "\n",
    "\n",
    "\n",
    "%matplotlib inline"
   ]
  },
  {
   "cell_type": "markdown",
   "metadata": {},
   "source": [
    "### SkLearn Selectors"
   ]
  },
  {
   "cell_type": "code",
   "execution_count": 8,
   "metadata": {
    "ExecuteTime": {
     "end_time": "2018-11-10T16:40:00.205863Z",
     "start_time": "2018-11-10T16:40:00.201583Z"
    },
    "code_folding": [
     0,
     14
    ]
   },
   "outputs": [],
   "source": [
    "class ColumnSelector(BaseEstimator, TransformerMixin):\n",
    "    \"\"\"\n",
    "    Transformer to select a single column from the data frame to perform additional transformations on\n",
    "    Use on text columns in the data\n",
    "    \"\"\"\n",
    "    def __init__(self, key):\n",
    "        self.key = key\n",
    "\n",
    "    def fit(self, X, y=None):\n",
    "        return self\n",
    "\n",
    "    def transform(self, X):\n",
    "        return X[self.key]\n",
    "    \n",
    "class IndexSelector(BaseEstimator, TransformerMixin):\n",
    "    \"\"\"\n",
    "    Transformer to select an index only\n",
    "    \"\"\"\n",
    "    def __init__(self):\n",
    "        pass\n",
    "\n",
    "    def fit(self, X, y=None):\n",
    "        return self\n",
    "\n",
    "    def transform(self, X):\n",
    "        return X.index"
   ]
  },
  {
   "cell_type": "markdown",
   "metadata": {},
   "source": [
    "### Time-Series Metrics"
   ]
  },
  {
   "cell_type": "code",
   "execution_count": 9,
   "metadata": {
    "ExecuteTime": {
     "end_time": "2018-11-10T16:40:01.069094Z",
     "start_time": "2018-11-10T16:40:01.065761Z"
    }
   },
   "outputs": [],
   "source": [
    "from sklearn.metrics import r2_score, median_absolute_error, mean_absolute_error\n",
    "from sklearn.metrics import mean_squared_error, mean_squared_log_error\n",
    "\n",
    "def mean_absolute_percentage_error(y_true, y_pred): \n",
    "    return np.mean(np.abs((y_true - y_pred) / y_true)) * 100"
   ]
  },
  {
   "cell_type": "markdown",
   "metadata": {},
   "source": [
    "### Time-Series Features"
   ]
  },
  {
   "cell_type": "code",
   "execution_count": 10,
   "metadata": {
    "ExecuteTime": {
     "end_time": "2018-11-10T16:40:02.035625Z",
     "start_time": "2018-11-10T16:40:01.962617Z"
    },
    "code_folding": [
     33,
     35,
     37,
     39,
     41,
     43,
     59,
     74,
     78
    ]
   },
   "outputs": [],
   "source": [
    "ny = [(1, x) for x in range(1, 9)]\n",
    "fem = [(3, x) for x in range(8, 12)]\n",
    "male = [(2, x) for x in range(23, 26)]\n",
    "jun = [(6, x) for x in range(10, 13)]\n",
    "jun2 = [(6, x) for x in range(15, 17)] # TAT\n",
    "nov = [(11, x) for x in range(3, 6)] \n",
    "\n",
    "shorter_17 = [(2, 22), (3, 7), (8, 29), (8, 31), (11, 3)]\n",
    "shorter_18 = [(2, 22), (3, 7), (4, 28), (5, 8), (6, 9), (6, 14), (8, 20), (8, 29)]\n",
    "\n",
    "# Russian \n",
    "rus_17 = [(3, 8), (5, 1), (5, 8), (5, 9), (6, 12)] + ny + male + nov\n",
    "rus_18 = [(1, 7), (5, 9), (4, 28)] + ny + fem + male + jun + jun2 + nov\n",
    "\n",
    "# Tatartan \n",
    "tat_17 = [(6, 25), (8, 30), (9, 1), (11, 6)]\n",
    "tat_18 = [(11, 6), (8, 30), (8, 21)] + jun2\n",
    "\n",
    "\n",
    "rus_17 = set([dt.datetime(2017, m, d) for (m, d) in rus_17])\n",
    "rus_18 = set([dt.datetime(2018, m, d) for (m, d) in rus_18])\n",
    "tat_17 = set([dt.datetime(2017, m, d) for (m, d) in tat_17])\n",
    "tat_18 = set([dt.datetime(2018, m, d) for (m, d) in tat_18])\n",
    "shorter_17 = set([dt.datetime(2017, m, d) for (m, d) in shorter_17])\n",
    "shorter_18 = set([dt.datetime(2018, m, d) for (m, d) in shorter_18])\n",
    "\n",
    "class DatetimeTransformer(BaseEstimator, TransformerMixin):\n",
    "    def __init__(self, year=True, month=True, day=True, dayofweek=True, \n",
    "                 hour=True, minute=True, second=True, russian_holidays=False,\n",
    "                 weekdays_as_holidays=False, tatar_holidays=False, shortened_day=False, **kwargs):\n",
    "        self.enc = []\n",
    "        if year:\n",
    "            self.enc.append(\"year\")\n",
    "        if month:\n",
    "            self.enc.append(\"month\")\n",
    "        if day:\n",
    "            self.enc.append(\"day\")\n",
    "        if dayofweek:\n",
    "            self.enc.append(\"dayofweek\")\n",
    "        if hour:\n",
    "            self.enc.append(\"hour\")\n",
    "        if minute:\n",
    "            self.enc.append(\"minute\")\n",
    "        if second:\n",
    "            self.enc.append(\"second\")\n",
    "        \n",
    "        self.weekdays_as_holidays = weekdays_as_holidays\n",
    "        self.russian_holidays = russian_holidays\n",
    "        self.tatar_holidays = tatar_holidays\n",
    "        self.shortened_day = shortened_day\n",
    "        \n",
    "    def _is_tatar_holiday(self, date):\n",
    "        return date in tat_17 or date in tat_18\n",
    "    \n",
    "    def _is_russian_holiday(self, date):\n",
    "        return date in rus_17 or date in rus_18\n",
    "    \n",
    "    def _is_shortened(self, date):\n",
    "        return date in shorter_17 or date in shorter_18\n",
    "    \n",
    "    def fit(self, X, y=None):\n",
    "        return self\n",
    "\n",
    "    def transform(self, col):\n",
    "        result = pd.DataFrame(col)\n",
    "        \n",
    "        # Parse weekday holidays\n",
    "        if self.weekdays_as_holidays:\n",
    "            result[\"weekday_holiday\"] = result[col.name].apply(lambda date: date.weekday() in [5, 6])\n",
    "            \n",
    "        # Parse tatarstan holidays\n",
    "        if self.tatar_holidays:\n",
    "            result[\"tatar_holiday\"] = result[col.name].apply(lambda date: self._is_tatar_holiday(date))\n",
    "            \n",
    "        # Parse russian holidays\n",
    "        if self.russian_holidays:\n",
    "            result[\"russian_holiday\"] = result[col.name].apply(lambda date: self._is_russian_holiday(date))\n",
    "            \n",
    "        # Parse shortened days\n",
    "        if self.shortened_day:\n",
    "            result[\"shortened\"] = result[col.name].apply(lambda date: self._is_shortened(date))\n",
    "            \n",
    "        # Parse datetime\n",
    "        if len(self.enc) != 0:\n",
    "            for date_type in self.enc:\n",
    "                result[\"{}_{}\".format(col.name, date_type)] = getattr(col, date_type)\n",
    "        \n",
    "        result.drop([col.name], inplace=True, axis=1)    \n",
    "        return result"
   ]
  },
  {
   "cell_type": "markdown",
   "metadata": {},
   "source": [
    "### Time-Series Cross-Validation"
   ]
  },
  {
   "cell_type": "code",
   "execution_count": 11,
   "metadata": {
    "ExecuteTime": {
     "end_time": "2018-11-10T16:40:02.958147Z",
     "start_time": "2018-11-10T16:40:02.953526Z"
    },
    "code_folding": []
   },
   "outputs": [],
   "source": [
    "from sklearn.model_selection import TimeSeriesSplit\n",
    "\n",
    "def forecast_cv(model, X, y, loss_function=mean_absolute_percentage_error, folds=3):\n",
    "    tscv = TimeSeriesSplit(n_splits=folds)\n",
    "    scores = []\n",
    "    for train_indices, test_indices, in tscv.split(X, y):\n",
    "        X_train = X.iloc[train_indices]\n",
    "        y_train = y.iloc[train_indices]\n",
    "        \n",
    "        X_test = X.iloc[test_indices]\n",
    "        y_test = y.iloc[test_indices]\n",
    "        \n",
    "        y_pred = model.fit(X_train, y_train).predict(X_test)\n",
    "        \n",
    "        scores.append(loss_function(y_pred, y_test))\n",
    "        \n",
    "    return scores"
   ]
  },
  {
   "cell_type": "markdown",
   "metadata": {},
   "source": [
    "### Contest"
   ]
  },
  {
   "cell_type": "code",
   "execution_count": 12,
   "metadata": {
    "ExecuteTime": {
     "end_time": "2018-11-10T16:40:04.038329Z",
     "start_time": "2018-11-10T16:40:03.969936Z"
    }
   },
   "outputs": [],
   "source": [
    "data = pd.read_csv(\"train.csv\", encoding=\"WINDOWS-1251\", sep=\";\",  header=None,\n",
    "                   names=[\"date\", \"calls_in\", \"calls_proc\", \"calls_lost\", \"mean_response_time\", \"mean_call_time\", \"mean_operaotrs\", \"max_operators\"])\n",
    "data.drop(0, inplace=True)\n",
    "data.set_index(\"date\", inplace=True)\n",
    "data.index = pd.to_datetime(data.index, dayfirst=True)\n",
    "data = data.astype(np.int)"
   ]
  },
  {
   "cell_type": "code",
   "execution_count": 13,
   "metadata": {
    "ExecuteTime": {
     "end_time": "2018-11-10T16:40:07.910686Z",
     "start_time": "2018-11-10T16:40:07.904413Z"
    },
    "code_folding": [
     1
    ]
   },
   "outputs": [],
   "source": [
    "def results(models, x, y, folds=9):\n",
    "    def to_sns_df(l):\n",
    "        l2 = []\n",
    "        for mname, maes in l:\n",
    "             l2.extend([(mname, mae) for mae in maes])\n",
    "        df = pd.DataFrame(l2)\n",
    "        df.columns = [\"model\", \"metric\"]\n",
    "        return  df\n",
    "    \n",
    "    maes = []\n",
    "    mapes = []\n",
    "    for model in models:\n",
    "        name = model[0]\n",
    "        pipe = model[1]\n",
    "        \n",
    "        results_mae = forecast_cv(pipe, x, y, loss_function=mean_absolute_error, folds=folds)\n",
    "        results_mape = forecast_cv(pipe, x, y, loss_function=mean_absolute_percentage_error, folds=folds)\n",
    "        \n",
    "        print(\"---\")\n",
    "        print(\"{}\".format(name))\n",
    "        print(\"---\")\n",
    "        print(\"Mean MAE: {}\".format(np.mean(results_mae)))\n",
    "        print(\"MAE across folds: {}\".format(results_mae))\n",
    "        print(\"---\")\n",
    "        print(\"Mean MAPE: {}\".format(np.mean(results_mape)))\n",
    "        print(\"MAPE across folds: {}\".format(results_mape))\n",
    "        print()\n",
    "        \n",
    "        maes.append((name, results_mae))\n",
    "        mapes.append((name, results_mape))\n",
    "        \n",
    "    fig, axes = plt.subplots(2)\n",
    "    fig.set_size_inches(25, 10)\n",
    "    sns.boxplot(data = to_sns_df(maes), x= \"model\", y = \"metric\", ax=axes[0])\n",
    "    sns.boxplot(data = to_sns_df(mapes), x= \"model\", y = \"metric\", ax=axes[1])"
   ]
  },
  {
   "cell_type": "code",
   "execution_count": 14,
   "metadata": {
    "ExecuteTime": {
     "end_time": "2018-11-10T16:40:17.856012Z",
     "start_time": "2018-11-10T16:40:17.850254Z"
    },
    "code_folding": [
     1,
     7,
     10,
     13,
     16
    ],
    "scrolled": false
   },
   "outputs": [],
   "source": [
    "   \n",
    "# models = [\n",
    "#     (\"naiveLast-Weekday\", Pipeline([\n",
    "#         (\"forecaster\", NaiveForecasting(\"last\", \"weekday\"))\n",
    "#     ])),\n",
    "#     (\"naiveMean-Weekday\", Pipeline([\n",
    "#         (\"forecaster\", NaiveForecasting(\"mean\", \"weekday\"))\n",
    "#     ])),\n",
    "#     (\"naiveMedian-Weekday\", Pipeline([\n",
    "#         (\"forecaster\", NaiveForecasting(\"median\", \"weekday\"))\n",
    "#     ])),\n",
    "#     (\"naiveLast-Monthday\", Pipeline([\n",
    "#         (\"forecaster\", NaiveForecasting(\"last\", \"month\"))\n",
    "#     ])),\n",
    "#     (\"naiveMean-Monthday\", Pipeline([\n",
    "#         (\"forecaster\", NaiveForecasting(\"mean\", \"month\"))\n",
    "#     ])),\n",
    "#     (\"naiveMedian-Monthday\", Pipeline([\n",
    "#         (\"forecaster\", NaiveForecasting(\"median\", \"month\"))\n",
    "#     ])),\n",
    "#     (\"runningAverage-30\", Pipeline([\n",
    "#         (\"forecaster\", RunningAverageForecasting(window=30))\n",
    "#     ])),\n",
    "#     (\"LGBM\", Pipeline([\n",
    "#         (\"selector\", IndexSelector()),\n",
    "#         (\"features\", DatetimeTransformer()),\n",
    "#         (\"forecaster\", LGBMRegressor())\n",
    "#     ])),\n",
    "#     (\"LGBM-weekday-day\", Pipeline([\n",
    "#         (\"selector\", IndexSelector()),\n",
    "#         (\"features\", DatetimeTransformer(year=False, month=False, day=True, dayofweek=True, hour=False, minute=False, second=False)),\n",
    "#         (\"forecaster\", LGBMRegressor())\n",
    "#     ])),\n",
    "#     (\"LGBM-month-weekday-day\", Pipeline([\n",
    "#         (\"selector\", IndexSelector()),\n",
    "#         (\"features\", DatetimeTransformer(year=False, month=True, day=True, dayofweek=True, hour=False, minute=False, second=False)),\n",
    "#         (\"forecaster\", LGBMRegressor())\n",
    "#     ])),\n",
    "#     (\"XGBoost\", Pipeline([\n",
    "#         (\"selector\", IndexSelector()),\n",
    "#         (\"features\", DatetimeTransformer()),\n",
    "#         (\"forecaster\", XGBRegressor())\n",
    "#     ])),\n",
    "#     (\"XGBoost-weekday-day\", Pipeline([\n",
    "#         (\"selector\", IndexSelector()),\n",
    "#         (\"features\", DatetimeTransformer(year=False, month=False, day=True, dayofweek=True, hour=False, minute=False, second=False)),\n",
    "#         (\"forecaster\", XGBRegressor())\n",
    "#     ])),\n",
    "#     (\"XGBoost-weekday-day-russian-tatar-shortened\", Pipeline([\n",
    "#         (\"selector\", IndexSelector()),\n",
    "#         (\"features\", DatetimeTransformer(year=False, month=False, day=True, dayofweek=True,\n",
    "#                                          hour=False, minute=False, second=False, russian_holidays=True,\n",
    "#                                          tatar_holidays=True, shortened_day=True, weekdays_as_holidays=False)),\n",
    "#         (\"forecaster\", XGBRegressor(colsample_bytree=1.0, gamma=0.5, max_depth=4, min_child_weight=1, subsample=0.6))\n",
    "#     ])),\n",
    "#     (\"XGBoost-month-weekday-day\", Pipeline([\n",
    "#         (\"selector\", IndexSelector()),\n",
    "#         (\"features\", DatetimeTransformer(year=False, month=True, day=True, dayofweek=True, hour=False, minute=False, second=False)),\n",
    "#         (\"forecaster\", XGBRegressor())\n",
    "#     ])),\n",
    "#     (\"Linear Regresson\", Pipeline([\n",
    "#         (\"selector\", IndexSelector()),\n",
    "#         (\"features\", DatetimeTransformer()),\n",
    "#         (\"scaler\", StandardScaler()),\n",
    "#         (\"forecaster\", LinearRegression())\n",
    "#     ])),\n",
    "#     (\"LinearRegression-weekday-day-russian-tatar-shortened\", Pipeline([\n",
    "#         (\"selector\", IndexSelector()),\n",
    "#         (\"features\", DatetimeTransformer(year=False, month=False, day=True, dayofweek=True,\n",
    "#                                          hour=False, minute=False, second=False, russian_holidays=True,\n",
    "#                                          tatar_holidays=True, shortened_day=True, weekdays_as_holidays=False)),\n",
    "#         (\"scaler\", StandardScaler()),\n",
    "#         (\"forecaster\", LinearRegression())\n",
    "#     ])),\n",
    "#     (\"DecisionTree-weekday-day-russian-tatar-shortened\", Pipeline([\n",
    "#         (\"selector\", IndexSelector()),\n",
    "#         (\"features\", DatetimeTransformer(year=False, month=False, day=True, dayofweek=True,\n",
    "#                                          hour=False, minute=False, second=False, russian_holidays=True,\n",
    "#                                          tatar_holidays=True, shortened_day=True, weekdays_as_holidays=False)),\n",
    "#         (\"forecaster\", DecisionTreeRegressor())\n",
    "#     ])),\n",
    "#     (\"RandomForest-weekday-day-russian-tatar-shortened\", Pipeline([\n",
    "#         (\"selector\", IndexSelector()),\n",
    "#         (\"features\", DatetimeTransformer(year=False, month=False, day=True, dayofweek=True,\n",
    "#                                          hour=False, minute=False, second=False, russian_holidays=True,\n",
    "#                                          tatar_holidays=True, shortened_day=True, weekdays_as_holidays=False)),\n",
    "#         (\"forecaster\", RandomForestRegressor())\n",
    "#     ])),\n",
    "# ]\n",
    "\n",
    "# results(models, data, data.calls_in)"
   ]
  },
  {
   "cell_type": "code",
   "execution_count": 15,
   "metadata": {
    "ExecuteTime": {
     "end_time": "2018-11-10T16:40:20.100990Z",
     "start_time": "2018-11-10T16:40:20.098803Z"
    }
   },
   "outputs": [],
   "source": [
    "# results(models, data, data.calls_lost)"
   ]
  },
  {
   "cell_type": "markdown",
   "metadata": {},
   "source": [
    "### Testing Area"
   ]
  },
  {
   "cell_type": "code",
   "execution_count": 20,
   "metadata": {
    "ExecuteTime": {
     "end_time": "2018-11-10T16:41:11.922506Z",
     "start_time": "2018-11-10T16:41:11.920047Z"
    }
   },
   "outputs": [],
   "source": [
    "# predictor = Pipeline([\n",
    "#         (\"selector\", IndexSelector()),\n",
    "#         (\"features\", DatetimeTransformer(year=False, month=False, day=True, dayofweek=True,\n",
    "#                                          hour=False, minute=False, second=False, russian_holidays=True,\n",
    "#                                          tatar_holidays=True, shortened_day=True, weekdays_as_holidays=False)),\n",
    "#         (\"forecaster\", XGBRegressor())\n",
    "# ])"
   ]
  },
  {
   "cell_type": "code",
   "execution_count": 21,
   "metadata": {
    "ExecuteTime": {
     "end_time": "2018-11-10T16:41:13.172153Z",
     "start_time": "2018-11-10T16:41:13.168101Z"
    }
   },
   "outputs": [],
   "source": [
    "top_model = Pipeline([\n",
    "        (\"selector\", IndexSelector()),\n",
    "        (\"features\", DatetimeTransformer(year=False, month=False, day=True, dayofweek=True,\n",
    "                                         hour=False, minute=False, second=False, russian_holidays=True,\n",
    "                                         tatar_holidays=True, shortened_day=True, weekdays_as_holidays=False)),\n",
    "        (\"forecaster\", XGBRegressor())\n",
    "])"
   ]
  },
  {
   "cell_type": "code",
   "execution_count": null,
   "metadata": {},
   "outputs": [],
   "source": [
    "mae = mean_absolute_error(series[window:], rolling_mean[window:])\n",
    "deviation = np.std(series[window:] - rolling_mean[window:])\n",
    "\n",
    "lower_bond = rolling_mean - (mae + scale * deviation)\n",
    "upper_bond = rolling_mean + (mae + scale * deviation)"
   ]
  },
  {
   "cell_type": "code",
   "execution_count": 220,
   "metadata": {
    "ExecuteTime": {
     "end_time": "2018-11-11T08:43:06.452878Z",
     "start_time": "2018-11-11T08:43:06.446825Z"
    }
   },
   "outputs": [],
   "source": [
    "cb_model =  Pipeline([\n",
    "        (\"selector\", IndexSelector()),\n",
    "        (\"features\", DatetimeTransformer(year=False, month=False, day=True, dayofweek=True,\n",
    "                                         hour=False, minute=False, second=False, russian_holidays=True,\n",
    "                                         tatar_holidays=True, shortened_day=True, weekdays_as_holidays=False)),\n",
    "        (\"bounds\", GradientBoostingRegressor(loss='quantile', alpha=0.95,\n",
    "                                n_estimators=500, max_depth=25,\n",
    "                                learning_rate=.05, min_samples_leaf=10,\n",
    "                                min_samples_split=5))\n",
    "])\n",
    "\n",
    "\n",
    "def make_json(time, value):\n",
    "    json_body = [\n",
    "    {\n",
    "        \"measurement\": \"calls_in\",\n",
    "#         \"tags\": {\n",
    "#             \"host\": \"server01\",\n",
    "#         },\n",
    "        \"time\": time,\n",
    "        \"fields\": {\n",
    "            \"value\": value\n",
    "        }\n",
    "    }\n",
    "    ]\n",
    "    return json_body\n",
    "\n",
    "client = InfluxDBClient('localhost', 8086, 'root', 'root', 'example')\n",
    "for x in data.calls_in.iloc[:-64].iteritems():\n",
    "    j = make_json(str(x[0]), float(x[1]))\n",
    "    client.write_points(j)\n",
    "    "
   ]
  },
  {
   "cell_type": "code",
   "execution_count": 250,
   "metadata": {
    "ExecuteTime": {
     "end_time": "2018-11-11T13:18:39.453524Z",
     "start_time": "2018-11-11T13:18:37.913267Z"
    }
   },
   "outputs": [
    {
     "data": {
      "image/png": "[encoded data removed]",
      "text/plain": [
       "<Figure size 1080x360 with 1 Axes>"
      ]
     },
     "metadata": {},
     "output_type": "display_data"
    }
   ],
   "source": [
    "# cb_model.set_params(**best_grid)\n",
    "\n",
    "out_of_bounds = 0\n",
    "total = 0\n",
    "fig, a = plt.subplots()\n",
    "fig.set_size_inches(15, 5)\n",
    "for i, (train_indices, test_indices), in enumerate(tscv.split(data, data.calls_in)):\n",
    "    if i != 7:\n",
    "        continue\n",
    "    X_train = data.iloc[train_indices]\n",
    "    y_train = data.calls_in.iloc[train_indices]\n",
    "\n",
    "    X_test = data.iloc[test_indices]\n",
    "    y_test = data.calls_in.iloc[test_indices]\n",
    "\n",
    "    y_pred = top_model.fit(X_train, y_train).predict(X_test)\n",
    "\n",
    "    train_residuals = y_train - top_model.predict(X_train)\n",
    "    train_mae = np.mean(np.abs(train_residuals))\n",
    "\n",
    "\n",
    "    alpha = 0.99\n",
    "    # Predict upper\n",
    "    cb_model.set_params(bounds__alpha=alpha)\n",
    "    cb_model.fit(X_train, y_train)\n",
    "    upper_bound = cb_model.predict(X_test)\n",
    "\n",
    "    # Predict lower\n",
    "    cb_model.set_params(bounds__alpha= 1 - alpha)\n",
    "    cb_model.fit(X_train, y_train)\n",
    "    lower_bound = cb_model.predict(X_test)\n",
    "\n",
    "    a.plot(y_test, label = \"Test data\")\n",
    "    a.plot(pd.Series(y_pred, index=y_test.index), label = \"Predictions\")\n",
    "    a.legend()\n",
    "\n",
    "#     a[i].plot(upper_bound, c = \"red\", linestyle = \":\")\n",
    "#     a[i].plot(lower_bound, c = \"red\", linestyle = \":\")\n",
    "    out_of_bounds += np.sum((y_test  < lower_bound - 20) | (y_test > upper_bound + 20))\n",
    "    total += y_pred.shape[0]\n",
    "\n",
    "#     aes.append(y_test.values - y_pred)\n",
    "fig.autofmt_xdate()\n",
    "\n",
    "# print(out_of_bounds / total)\n"
   ]
  },
  {
   "cell_type": "code",
   "execution_count": 165,
   "metadata": {
    "ExecuteTime": {
     "end_time": "2018-11-11T08:18:50.635945Z",
     "start_time": "2018-11-11T08:18:50.478649Z"
    }
   },
   "outputs": [
    {
     "data": {
      "image/png": "[encoded data removed]",
      "text/plain": [
       "<Figure size 1080x360 with 1 Axes>"
      ]
     },
     "metadata": {},
     "output_type": "display_data"
    }
   ],
   "source": [
    "plt.plot(data.calls_in.rolling(30).std())\n",
    "plt.gcf().set_size_inches(15, 5)"
   ]
  },
  {
   "cell_type": "code",
   "execution_count": 47,
   "metadata": {
    "ExecuteTime": {
     "end_time": "2018-11-10T16:59:30.538370Z",
     "start_time": "2018-11-10T16:59:30.480042Z"
    }
   },
   "outputs": [
    {
     "name": "stdout",
     "output_type": "stream",
     "text": [
      "Optimization terminated successfully.    (Exit mode 0)\n",
      "            Current function value: -0.11819846205744461\n",
      "            Iterations: 9\n",
      "            Function evaluations: 60\n",
      "            Gradient evaluations: 9\n",
      "                     Constant Mean - GARCH Model Results                      \n",
      "==============================================================================\n",
      "Dep. Variable:                      y   R-squared:                      -0.004\n",
      "Mean Model:             Constant Mean   Adj. R-squared:                 -0.004\n",
      "Vol Model:                      GARCH   Log-Likelihood:               0.118198\n",
      "Distribution:                  Normal   AIC:                           7.76360\n",
      "Method:            Maximum Likelihood   BIC:                           10.5958\n",
      "                                        No. Observations:                   15\n",
      "Date:                Sat, Nov 10 2018   Df Residuals:                       11\n",
      "Time:                        19:59:30   Df Model:                            4\n",
      "                               Mean Model                               \n",
      "========================================================================\n",
      "                 coef    std err          t      P>|t|  95.0% Conf. Int.\n",
      "------------------------------------------------------------------------\n",
      "mu             0.7187      0.116      6.188  6.080e-10 [  0.491,  0.946]\n",
      "                              Volatility Model                             \n",
      "===========================================================================\n",
      "                 coef    std err          t      P>|t|     95.0% Conf. Int.\n",
      "---------------------------------------------------------------------------\n",
      "omega          0.0485  6.877e-02      0.706      0.480 [-8.626e-02,  0.183]\n",
      "alpha[1]       0.1733      0.688      0.252      0.801    [ -1.176,  1.522]\n",
      "beta[1]    5.0529e-16      2.172  2.326e-16      1.000    [ -4.257,  4.257]\n",
      "===========================================================================\n",
      "\n",
      "Covariance estimator: robust\n"
     ]
    }
   ],
   "source": [
    "from arch import arch_model\n",
    "garch11 = arch_model(r, p=1, q=1)\n",
    "res = garch11.fit(update_freq=10)\n",
    "print(res.summary())"
   ]
  },
  {
   "cell_type": "code",
   "execution_count": 23,
   "metadata": {
    "ExecuteTime": {
     "end_time": "2018-11-10T16:41:25.424970Z",
     "start_time": "2018-11-10T16:41:25.422480Z"
    },
    "code_folding": [
     10
    ]
   },
   "outputs": [],
   "source": [
    "# # A parameter grid for XGBoost\n",
    "# params = {\n",
    "#     'forecaster__min_child_weight': [1, 5, 10],\n",
    "#     'forecaster__gamma': [0.5, 1, 1.5, 2, 5],\n",
    "#     'forecaster__subsample': [0.6, 0.8, 1.0],\n",
    "#     'forecaster__colsample_bytree': [0.6, 0.8, 1.0],\n",
    "#     'forecaster__max_depth': [3, 4, 8, 16, 32, 64, 128]\n",
    "# }\n",
    "\n",
    "# tscv = TimeSeriesSplit(n_splits=9)\n",
    "# random_search = GridSearchCV(top_model, params, \n",
    "#                                    scoring=make_scorer(mean_absolute_percentage_error, greater_is_better=False),\n",
    "#                                    cv=tscv.split(data, data.calls_in), verbose=2)\n",
    "# random_search.fit(data, data.calls_in)"
   ]
  },
  {
   "cell_type": "code",
   "execution_count": 61,
   "metadata": {
    "ExecuteTime": {
     "end_time": "2018-11-10T17:12:36.387838Z",
     "start_time": "2018-11-10T17:12:36.376146Z"
    }
   },
   "outputs": [
    {
     "data": {
      "text/html": [
       "<div>\n",
       "<style scoped>\n",
       "    .dataframe tbody tr th:only-of-type {\n",
       "        vertical-align: middle;\n",
       "    }\n",
       "\n",
       "    .dataframe tbody tr th {\n",
       "        vertical-align: top;\n",
       "    }\n",
       "\n",
       "    .dataframe thead th {\n",
       "        text-align: right;\n",
       "    }\n",
       "</style>\n",
       "<table border=\"1\" class=\"dataframe\">\n",
       "  <thead>\n",
       "    <tr style=\"text-align: right;\">\n",
       "      <th></th>\n",
       "      <th>pct_change</th>\n",
       "    </tr>\n",
       "    <tr>\n",
       "      <th>date</th>\n",
       "      <th></th>\n",
       "    </tr>\n",
       "  </thead>\n",
       "  <tbody>\n",
       "    <tr>\n",
       "      <th>2017-03-02</th>\n",
       "      <td>-361.0</td>\n",
       "    </tr>\n",
       "    <tr>\n",
       "      <th>2017-03-03</th>\n",
       "      <td>4.0</td>\n",
       "    </tr>\n",
       "    <tr>\n",
       "      <th>2017-03-04</th>\n",
       "      <td>-712.0</td>\n",
       "    </tr>\n",
       "    <tr>\n",
       "      <th>2017-03-05</th>\n",
       "      <td>-501.0</td>\n",
       "    </tr>\n",
       "    <tr>\n",
       "      <th>2017-03-06</th>\n",
       "      <td>1278.0</td>\n",
       "    </tr>\n",
       "  </tbody>\n",
       "</table>\n",
       "</div>"
      ],
      "text/plain": [
       "            pct_change\n",
       "date                  \n",
       "2017-03-02      -361.0\n",
       "2017-03-03         4.0\n",
       "2017-03-04      -712.0\n",
       "2017-03-05      -501.0\n",
       "2017-03-06      1278.0"
      ]
     },
     "execution_count": 61,
     "metadata": {},
     "output_type": "execute_result"
    }
   ],
   "source": [
    "# In[1]:\n",
    "\n",
    "import pandas as pd\n",
    "import numpy as np\n",
    "import pandas_datareader as pdr\n",
    "import datetime\n",
    "import arch\n",
    "\n",
    "# In[2]:\n",
    "\n",
    "df = pd.DataFrame()\n",
    "df['pct_change'] = data.calls_in.diff()\n",
    "df.dropna(inplace=True)\n",
    "df.head()"
   ]
  },
  {
   "cell_type": "code",
   "execution_count": 62,
   "metadata": {
    "ExecuteTime": {
     "end_time": "2018-11-10T17:12:36.748270Z",
     "start_time": "2018-11-10T17:12:36.737075Z"
    }
   },
   "outputs": [
    {
     "data": {
      "text/html": [
       "<div>\n",
       "<style scoped>\n",
       "    .dataframe tbody tr th:only-of-type {\n",
       "        vertical-align: middle;\n",
       "    }\n",
       "\n",
       "    .dataframe tbody tr th {\n",
       "        vertical-align: top;\n",
       "    }\n",
       "\n",
       "    .dataframe thead th {\n",
       "        text-align: right;\n",
       "    }\n",
       "</style>\n",
       "<table border=\"1\" class=\"dataframe\">\n",
       "  <thead>\n",
       "    <tr style=\"text-align: right;\">\n",
       "      <th></th>\n",
       "      <th>pct_change</th>\n",
       "      <th>stdev21</th>\n",
       "    </tr>\n",
       "    <tr>\n",
       "      <th>date</th>\n",
       "      <th></th>\n",
       "      <th></th>\n",
       "    </tr>\n",
       "  </thead>\n",
       "  <tbody>\n",
       "    <tr>\n",
       "      <th>2017-03-08</th>\n",
       "      <td>-1482.0</td>\n",
       "      <td>865.883914</td>\n",
       "    </tr>\n",
       "    <tr>\n",
       "      <th>2017-03-09</th>\n",
       "      <td>1289.0</td>\n",
       "      <td>1027.554981</td>\n",
       "    </tr>\n",
       "    <tr>\n",
       "      <th>2017-03-10</th>\n",
       "      <td>-5.0</td>\n",
       "      <td>1027.591683</td>\n",
       "    </tr>\n",
       "    <tr>\n",
       "      <th>2017-03-11</th>\n",
       "      <td>-883.0</td>\n",
       "      <td>1049.797101</td>\n",
       "    </tr>\n",
       "    <tr>\n",
       "      <th>2017-03-12</th>\n",
       "      <td>-416.0</td>\n",
       "      <td>1043.514848</td>\n",
       "    </tr>\n",
       "  </tbody>\n",
       "</table>\n",
       "</div>"
      ],
      "text/plain": [
       "            pct_change      stdev21\n",
       "date                               \n",
       "2017-03-08     -1482.0   865.883914\n",
       "2017-03-09      1289.0  1027.554981\n",
       "2017-03-10        -5.0  1027.591683\n",
       "2017-03-11      -883.0  1049.797101\n",
       "2017-03-12      -416.0  1043.514848"
      ]
     },
     "execution_count": 62,
     "metadata": {},
     "output_type": "execute_result"
    }
   ],
   "source": [
    "df['stdev21'] = df['pct_change'].rolling(window=7, center=False).std()\n",
    "df = df.dropna() # Remove rows with blank cells.\n",
    "df.head()"
   ]
  },
  {
   "cell_type": "code",
   "execution_count": 63,
   "metadata": {
    "ExecuteTime": {
     "end_time": "2018-11-10T17:12:52.587301Z",
     "start_time": "2018-11-10T17:12:52.534899Z"
    }
   },
   "outputs": [
    {
     "data": {
      "text/html": [
       "<table class=\"simpletable\">\n",
       "<caption>Constant Mean - GARCH Model Results</caption>\n",
       "<tr>\n",
       "  <th>Dep. Variable:</th>     <td>pct_change</td>     <th>  R-squared:         </th>  <td>  -0.000</td> \n",
       "</tr>\n",
       "<tr>\n",
       "  <th>Mean Model:</th>       <td>Constant Mean</td>   <th>  Adj. R-squared:    </th>  <td>  -0.000</td> \n",
       "</tr>\n",
       "<tr>\n",
       "  <th>Vol Model:</th>            <td>GARCH</td>       <th>  Log-Likelihood:    </th> <td>  -4386.76</td>\n",
       "</tr>\n",
       "<tr>\n",
       "  <th>Distribution:</th>        <td>Normal</td>       <th>  AIC:               </th> <td>   8781.53</td>\n",
       "</tr>\n",
       "<tr>\n",
       "  <th>Method:</th>        <td>Maximum Likelihood</td> <th>  BIC:               </th> <td>   8798.71</td>\n",
       "</tr>\n",
       "<tr>\n",
       "  <th></th>                        <td></td>          <th>  No. Observations:  </th>     <td>542</td>   \n",
       "</tr>\n",
       "<tr>\n",
       "  <th>Date:</th>           <td>Sat, Nov 10 2018</td>  <th>  Df Residuals:      </th>     <td>538</td>   \n",
       "</tr>\n",
       "<tr>\n",
       "  <th>Time:</th>               <td>20:12:52</td>      <th>  Df Model:          </th>      <td>4</td>    \n",
       "</tr>\n",
       "</table>\n",
       "<table class=\"simpletable\">\n",
       "<caption>Mean Model</caption>\n",
       "<tr>\n",
       "   <td></td>     <th>coef</th>     <th>std err</th>      <th>t</th>       <th>P>|t|</th>   <th>95.0% Conf. Int.</th> \n",
       "</tr>\n",
       "<tr>\n",
       "  <th>mu</th> <td>    2.8266</td> <td>   37.842</td> <td>7.469e-02</td> <td>    0.940</td> <td>[-71.342, 76.995]</td>\n",
       "</tr>\n",
       "</table>\n",
       "<table class=\"simpletable\">\n",
       "<caption>Volatility Model</caption>\n",
       "<tr>\n",
       "      <td></td>        <th>coef</th>     <th>std err</th>      <th>t</th>       <th>P>|t|</th>      <th>95.0% Conf. Int.</th>   \n",
       "</tr>\n",
       "<tr>\n",
       "  <th>omega</th>    <td>1.8840e+05</td> <td>5.574e+05</td> <td>    0.338</td> <td>    0.735</td> <td>[-9.042e+05,1.281e+06]</td>\n",
       "</tr>\n",
       "<tr>\n",
       "  <th>alpha[1]</th> <td>4.2208e-03</td> <td>2.057e-02</td> <td>    0.205</td> <td>    0.837</td> <td>[-3.609e-02,4.453e-02]</td>\n",
       "</tr>\n",
       "<tr>\n",
       "  <th>beta[1]</th>  <td>    0.6943</td> <td>    0.882</td> <td>    0.787</td> <td>    0.431</td>    <td>[ -1.035,  2.424]</td>  \n",
       "</tr>\n",
       "</table><br/><br/>Covariance estimator: robust"
      ],
      "text/plain": [
       "<class 'statsmodels.iolib.summary.Summary'>\n",
       "\"\"\"\n",
       "                     Constant Mean - GARCH Model Results                      \n",
       "==============================================================================\n",
       "Dep. Variable:             pct_change   R-squared:                      -0.000\n",
       "Mean Model:             Constant Mean   Adj. R-squared:                 -0.000\n",
       "Vol Model:                      GARCH   Log-Likelihood:               -4386.76\n",
       "Distribution:                  Normal   AIC:                           8781.53\n",
       "Method:            Maximum Likelihood   BIC:                           8798.71\n",
       "                                        No. Observations:                  542\n",
       "Date:                Sat, Nov 10 2018   Df Residuals:                      538\n",
       "Time:                        20:12:52   Df Model:                            4\n",
       "                               Mean Model                               \n",
       "========================================================================\n",
       "                 coef    std err          t      P>|t|  95.0% Conf. Int.\n",
       "------------------------------------------------------------------------\n",
       "mu             2.8266     37.842  7.469e-02      0.940 [-71.342, 76.995]\n",
       "                               Volatility Model                              \n",
       "=============================================================================\n",
       "                 coef    std err          t      P>|t|       95.0% Conf. Int.\n",
       "-----------------------------------------------------------------------------\n",
       "omega      1.8840e+05  5.574e+05      0.338      0.735 [-9.042e+05,1.281e+06]\n",
       "alpha[1]   4.2208e-03  2.057e-02      0.205      0.837 [-3.609e-02,4.453e-02]\n",
       "beta[1]        0.6943      0.882      0.787      0.431      [ -1.035,  2.424]\n",
       "=============================================================================\n",
       "\n",
       "Covariance estimator: robust\n",
       "\"\"\""
      ]
     },
     "execution_count": 63,
     "metadata": {},
     "output_type": "execute_result"
    }
   ],
   "source": [
    "returns = df['pct_change'] \n",
    "am = arch.arch_model(returns)\n",
    "res = am.fit(disp='off')\n",
    "res.summary()"
   ]
  },
  {
   "cell_type": "code",
   "execution_count": 64,
   "metadata": {
    "ExecuteTime": {
     "end_time": "2018-11-10T17:14:23.928841Z",
     "start_time": "2018-11-10T17:14:23.855524Z"
    }
   },
   "outputs": [
    {
     "data": {
      "text/html": [
       "<div>\n",
       "<style scoped>\n",
       "    .dataframe tbody tr th:only-of-type {\n",
       "        vertical-align: middle;\n",
       "    }\n",
       "\n",
       "    .dataframe tbody tr th {\n",
       "        vertical-align: top;\n",
       "    }\n",
       "\n",
       "    .dataframe thead th {\n",
       "        text-align: right;\n",
       "    }\n",
       "</style>\n",
       "<table border=\"1\" class=\"dataframe\">\n",
       "  <thead>\n",
       "    <tr style=\"text-align: right;\">\n",
       "      <th></th>\n",
       "      <th>pct_change</th>\n",
       "      <th>stdev21</th>\n",
       "      <th>forecast_vol</th>\n",
       "    </tr>\n",
       "    <tr>\n",
       "      <th>date</th>\n",
       "      <th></th>\n",
       "      <th></th>\n",
       "      <th></th>\n",
       "    </tr>\n",
       "  </thead>\n",
       "  <tbody>\n",
       "    <tr>\n",
       "      <th>2018-08-27</th>\n",
       "      <td>1646.0</td>\n",
       "      <td>884.316389</td>\n",
       "      <td>79.502043</td>\n",
       "    </tr>\n",
       "    <tr>\n",
       "      <th>2018-08-28</th>\n",
       "      <td>-200.0</td>\n",
       "      <td>840.208789</td>\n",
       "      <td>79.208498</td>\n",
       "    </tr>\n",
       "    <tr>\n",
       "      <th>2018-08-29</th>\n",
       "      <td>-76.0</td>\n",
       "      <td>819.591739</td>\n",
       "      <td>78.994722</td>\n",
       "    </tr>\n",
       "    <tr>\n",
       "      <th>2018-08-30</th>\n",
       "      <td>-610.0</td>\n",
       "      <td>848.630269</td>\n",
       "      <td>78.944756</td>\n",
       "    </tr>\n",
       "    <tr>\n",
       "      <th>2018-08-31</th>\n",
       "      <td>874.0</td>\n",
       "      <td>926.499403</td>\n",
       "      <td>79.012514</td>\n",
       "    </tr>\n",
       "  </tbody>\n",
       "</table>\n",
       "</div>"
      ],
      "text/plain": [
       "            pct_change     stdev21  forecast_vol\n",
       "date                                            \n",
       "2018-08-27      1646.0  884.316389     79.502043\n",
       "2018-08-28      -200.0  840.208789     79.208498\n",
       "2018-08-29       -76.0  819.591739     78.994722\n",
       "2018-08-30      -610.0  848.630269     78.944756\n",
       "2018-08-31       874.0  926.499403     79.012514"
      ]
     },
     "execution_count": 64,
     "metadata": {},
     "output_type": "execute_result"
    }
   ],
   "source": [
    "df['forecast_vol'] = 0.1 * np.sqrt(res.params['omega'] + res.params['alpha[1]'] * res.resid**2 + res.conditional_volatility**2 * res.params['beta[1]'])\n",
    "\n",
    "df.tail()"
   ]
  },
  {
   "cell_type": "code",
   "execution_count": 85,
   "metadata": {
    "ExecuteTime": {
     "end_time": "2018-11-10T17:20:16.603808Z",
     "start_time": "2018-11-10T17:20:16.483552Z"
    }
   },
   "outputs": [
    {
     "data": {
      "text/plain": [
       "[<matplotlib.lines.Line2D at 0x1c1f790400>]"
      ]
     },
     "execution_count": 85,
     "metadata": {},
     "output_type": "execute_result"
    },
    {
     "data": {
      "image/png": "[encoded data removed]",
      "text/plain": [
       "<Figure size 432x288 with 1 Axes>"
      ]
     },
     "metadata": {},
     "output_type": "display_data"
    }
   ],
   "source": [
    "plt.plot(df.stdev21.values)\n",
    "keke = (np.mean(df.stdev21 / df.forecast_vol) * df.forecast_vol).values\n",
    "plt.plot(keke)"
   ]
  },
  {
   "cell_type": "code",
   "execution_count": 87,
   "metadata": {
    "ExecuteTime": {
     "end_time": "2018-11-10T17:44:06.947844Z",
     "start_time": "2018-11-10T17:44:06.944728Z"
    }
   },
   "outputs": [],
   "source": [
    "import time\n",
    "import datetime\n",
    "d = datetime.date(2015,1,5)\n",
    "\n",
    "unixtime = time.mktime(d.timetuple())"
   ]
  },
  {
   "cell_type": "code",
   "execution_count": 88,
   "metadata": {
    "ExecuteTime": {
     "end_time": "2018-11-10T17:44:10.028388Z",
     "start_time": "2018-11-10T17:44:10.024197Z"
    }
   },
   "outputs": [
    {
     "data": {
      "text/plain": [
       "1420405200.0"
      ]
     },
     "execution_count": 88,
     "metadata": {},
     "output_type": "execute_result"
    }
   ],
   "source": [
    "unixtime"
   ]
  },
  {
   "cell_type": "code",
   "execution_count": 107,
   "metadata": {
    "ExecuteTime": {
     "end_time": "2018-11-11T07:48:45.274091Z",
     "start_time": "2018-11-11T07:48:45.264135Z"
    }
   },
   "outputs": [],
   "source": [
    "import numpy as np\n",
    "from scipy.stats import binom_test\n",
    "\n",
    "from sklearn.base import BaseEstimator, RegressorMixin\n",
    "from xgboost.sklearn import XGBRegressor\n",
    "from functools import partial\n",
    "\n",
    "class XGBOOSTQUANTILE(BaseEstimator, RegressorMixin):\n",
    "    def __init__(self, quant_alpha,quant_delta,quant_thres,quant_var,\n",
    "                n_estimators = 100,max_depth = 3,reg_alpha = 5.,reg_lambda=1.0,gamma=0.5):\n",
    "        self.quant_alpha = quant_alpha\n",
    "        self.quant_delta = quant_delta\n",
    "        self.quant_thres = quant_thres\n",
    "        self.quant_var = quant_var\n",
    "        #xgboost parameters\n",
    "        self.n_estimators = n_estimators\n",
    "        self.max_depth = max_depth\n",
    "        self.reg_alpha= reg_alpha\n",
    "        self.reg_lambda = reg_lambda\n",
    "        self.gamma = gamma\n",
    "\n",
    "        #keep xgboost estimator in memory\n",
    "\n",
    "        self.clf = None\n",
    "\n",
    "    def fit(self, X, y):\n",
    "\n",
    "        def quantile_loss(y_true, y_pred,_alpha,_delta,_threshold,_var):\n",
    "            x = y_true - y_pred\n",
    "            grad = (x==(_alpha-1.0)*_delta)&(x_alpha*_delta)\n",
    "            hess = ((x>=(_alpha-1.0)*_delta)& (x<_alpha*_delta) )/_delta\n",
    "\n",
    "            _len = np.array([y_true]).size\n",
    "\n",
    "            var = (2*np.random.randint(2, size=_len)-1.0)*_var\n",
    "            grad = (np.abs(x) == _threshold )*var\n",
    "            hess = (np.abs(x) == _threshold )\n",
    "            return grad, hess\n",
    "\n",
    "        self.clf = XGBRegressor(objective=partial( quantile_loss,\n",
    "                                            _alpha=self.quant_alpha,\n",
    "                                            _delta = self.quant_delta,\n",
    "                                            _threshold = self.quant_thres,\n",
    "                                            _var = self.quant_var),\n",
    "                                  n_estimators = self.n_estimators,\n",
    "                                  max_depth = self.max_depth, \n",
    "                                  reg_alpha =self.reg_alpha,\n",
    "                                  reg_lambda = self.reg_lambda,\n",
    "                                  gamma = self.gamma )\n",
    "\n",
    "        self.clf.fit(X,y)\n",
    "        return self\n",
    "\n",
    "    def predict(self, X):\n",
    "        y_pred = self.clf.predict(X)\n",
    "        return y_pred\n",
    "\n",
    "    def score(self, X, y):\n",
    "        y_pred = self.clf.predict(X)\n",
    "        score = (self.quant_alpha-1.0)*(y-y_pred)*(y==y_pred)\n",
    "        score = 1./np.sum(score)\n",
    "        return score"
   ]
  },
  {
   "cell_type": "code",
   "execution_count": 110,
   "metadata": {
    "ExecuteTime": {
     "end_time": "2018-11-11T07:56:24.682212Z",
     "start_time": "2018-11-11T07:56:24.675000Z"
    }
   },
   "outputs": [],
   "source": [
    "import numpy as np\n",
    "\n",
    "np.random.seed(1)\n",
    "def f(x):\n",
    "    \"\"\"The function to predict.\"\"\"\n",
    "    return x *np.sin(x)\n",
    "\n",
    "#----------------------------------------------------------------------\n",
    "# First the noiseless case\n",
    "X = np.atleast_2d(np.random.uniform(0, 10.0, size=100)).T\n",
    "X = X.astype(np.float32)\n",
    "\n",
    "# Observations\n",
    "y = f(X).ravel()\n",
    "dy = 1.5 + 1.0 * np.random.random(y.shape)\n",
    "noise = np.random.normal(0, dy)\n",
    "y += noise\n",
    "y = y.astype(np.float32)"
   ]
  },
  {
   "cell_type": "code",
   "execution_count": 111,
   "metadata": {
    "ExecuteTime": {
     "end_time": "2018-11-11T07:57:01.055325Z",
     "start_time": "2018-11-11T07:57:01.043849Z"
    }
   },
   "outputs": [
    {
     "ename": "TypeError",
     "evalue": "__init__() missing 3 required positional arguments: 'quant_delta', 'quant_thres', and 'quant_var'",
     "output_type": "error",
     "traceback": [
      "\u001b[0;31m---------------------------------------------------------------------------\u001b[0m",
      "\u001b[0;31mTypeError\u001b[0m                                 Traceback (most recent call last)",
      "\u001b[0;32m<ipython-input-111-f0e728d3731b>\u001b[0m in \u001b[0;36m<module>\u001b[0;34m()\u001b[0m\n\u001b[0;32m----> 1\u001b[0;31m \u001b[0mmodel\u001b[0m \u001b[0;34m=\u001b[0m \u001b[0mXGBOOSTQUANTILE\u001b[0m\u001b[0;34m(\u001b[0m\u001b[0;36m95\u001b[0m\u001b[0;34m,\u001b[0m\u001b[0;34m)\u001b[0m\u001b[0;34m\u001b[0m\u001b[0m\n\u001b[0m",
      "\u001b[0;31mTypeError\u001b[0m: __init__() missing 3 required positional arguments: 'quant_delta', 'quant_thres', and 'quant_var'"
     ]
    }
   ],
   "source": [
    "model = XGBOOSTQUANTILE(95,)"
   ]
  },
  {
   "cell_type": "code",
   "execution_count": 112,
   "metadata": {
    "ExecuteTime": {
     "end_time": "2018-11-11T07:57:19.849137Z",
     "start_time": "2018-11-11T07:57:19.212451Z"
    }
   },
   "outputs": [
    {
     "data": {
      "image/png": "[encoded data removed]",
      "text/plain": [
       "<Figure size 432x288 with 1 Axes>"
      ]
     },
     "metadata": {},
     "output_type": "display_data"
    }
   ],
   "source": [
    "import numpy as np\n",
    "import matplotlib.pyplot as plt\n",
    "\n",
    "from sklearn.ensemble import GradientBoostingRegressor\n",
    "\n",
    "np.random.seed(1)\n",
    "\n",
    "\n",
    "def f(x):\n",
    "    \"\"\"The function to predict.\"\"\"\n",
    "    return x * np.sin(x)\n",
    "\n",
    "#----------------------------------------------------------------------\n",
    "#  First the noiseless case\n",
    "X = np.atleast_2d(np.random.uniform(0, 10.0, size=100)).T\n",
    "X = X.astype(np.float32)\n",
    "\n",
    "# Observations\n",
    "y = f(X).ravel()\n",
    "\n",
    "dy = 1.5 + 1.0 * np.random.random(y.shape)\n",
    "noise = np.random.normal(0, dy)\n",
    "y += noise\n",
    "y = y.astype(np.float32)\n",
    "\n",
    "\n",
    "\n",
    "clf = GradientBoostingRegressor(loss='quantile', alpha=0.95,\n",
    "                                n_estimators=250, max_depth=3,\n",
    "                                learning_rate=.1, min_samples_leaf=9,\n",
    "                                min_samples_split=9)\n",
    "\n",
    "clf.fit(X, y)\n",
    "\n",
    "\n",
    "# Mesh the input space for evaluations of the real function, the prediction and\n",
    "# its MSE\n",
    "xx = np.atleast_2d(np.linspace(0, 10, 1000)).T\n",
    "xx = xx.astype(np.float32)\n",
    "\n",
    "# Make the prediction on the meshed x-axis\n",
    "y_upper = clf.predict(xx)\n",
    "\n",
    "clf.set_params(alpha=1.0 - alpha)\n",
    "clf.fit(X, y)\n",
    "\n",
    "# Make the prediction on the meshed x-axis\n",
    "y_lower = clf.predict(xx)\n",
    "\n",
    "clf.set_params(loss='ls')\n",
    "clf.fit(X, y)\n",
    "\n",
    "# Make the prediction on the meshed x-axis\n",
    "y_pred = clf.predict(xx)\n",
    "\n",
    "# Plot the function, the prediction and the 90% confidence interval based on\n",
    "# the MSE\n",
    "fig = plt.figure()\n",
    "plt.plot(xx, f(xx), 'g:', label=u'$f(x) = x\\,\\sin(x)$')\n",
    "plt.plot(X, y, 'b.', markersize=10, label=u'Observations')\n",
    "plt.plot(xx, y_pred, 'r-', label=u'Prediction')\n",
    "plt.plot(xx, y_upper, 'k-')\n",
    "plt.plot(xx, y_lower, 'k-')\n",
    "\n",
    "plt.fill(np.concatenate([xx, xx[::-1]]),\n",
    "         np.concatenate([y_upper, y_lower[::-1]]),\n",
    "         alpha=.5, fc='b', ec='None', label='90% prediction interval')\n",
    "plt.xlabel('$x$')\n",
    "plt.ylabel('$f(x)$')\n",
    "plt.ylim(-10, 20)\n",
    "plt.legend(loc='upper left')\n",
    "plt.show()"
   ]
  },
  {
   "cell_type": "code",
   "execution_count": 236,
   "metadata": {
    "ExecuteTime": {
     "end_time": "2018-11-11T10:29:30.300757Z",
     "start_time": "2018-11-11T10:29:30.291778Z"
    }
   },
   "outputs": [
    {
     "data": {
      "text/plain": [
       "61"
      ]
     },
     "execution_count": 236,
     "metadata": {},
     "output_type": "execute_result"
    }
   ],
   "source": [
    "results = list(client.query(\"SELECT * FROM calls_in\"))[0]\n",
    "len(results)"
   ]
  },
  {
   "cell_type": "code",
   "execution_count": null,
   "metadata": {},
   "outputs": [],
   "source": [
    "client.query()"
   ]
  },
  {
   "cell_type": "code",
   "execution_count": 222,
   "metadata": {
    "ExecuteTime": {
     "end_time": "2018-11-11T09:15:16.211276Z",
     "start_time": "2018-11-11T09:15:16.184238Z"
    }
   },
   "outputs": [],
   "source": [
    "from influxdb import InfluxDBClient\n",
    "client = InfluxDBClient('localhost', 8086, 'root', 'root', 'example')\n",
    "results = list(client.query(\"SELECT * FROM calls_in\"))[0]\n",
    "X = pd.DataFrame([(x['time'], x['value']) for x in results])\n",
    "X[0] = pd.to_datetime(X[0])\n",
    "X.set_index(0, inplace=True)"
   ]
  },
  {
   "cell_type": "code",
   "execution_count": 226,
   "metadata": {
    "ExecuteTime": {
     "end_time": "2018-11-11T09:16:21.405708Z",
     "start_time": "2018-11-11T09:16:21.368106Z"
    }
   },
   "outputs": [
    {
     "data": {
      "text/plain": [
       "Pipeline(memory=None,\n",
       "     steps=[('selector', IndexSelector()), ('features', DatetimeTransformer(day=None, dayofweek=None, hour=None, minute=None,\n",
       "          month=None, russian_holidays=True, second=None,\n",
       "          shortened_day=True, tatar_holidays=True,\n",
       "          weekdays_as_holidays=False, year=None)), ('forecaster', XGBR...\n",
       "       reg_alpha=0, reg_lambda=1, scale_pos_weight=1, seed=None,\n",
       "       silent=True, subsample=1))])"
      ]
     },
     "execution_count": 226,
     "metadata": {},
     "output_type": "execute_result"
    }
   ],
   "source": [
    "top_model.fit(X, X[1].values)"
   ]
  },
  {
   "cell_type": "code",
   "execution_count": 234,
   "metadata": {
    "ExecuteTime": {
     "end_time": "2018-11-11T09:24:14.769256Z",
     "start_time": "2018-11-11T09:24:14.764129Z"
    }
   },
   "outputs": [
    {
     "data": {
      "text/plain": [
       "2018-11-11 12:24:14.765495    0\n",
       "dtype: int64"
      ]
     },
     "execution_count": 234,
     "metadata": {},
     "output_type": "execute_result"
    }
   ],
   "source": [
    "dummy_series = pd.Series([0])\n",
    "dummy_series.index = (pd.to_datetime([datetime.datetime.now()]))\n",
    "dummy_series"
   ]
  },
  {
   "cell_type": "code",
   "execution_count": 227,
   "metadata": {
    "ExecuteTime": {
     "end_time": "2018-11-11T09:22:38.480467Z",
     "start_time": "2018-11-11T09:22:38.461721Z"
    }
   },
   "outputs": [
    {
     "ename": "AttributeError",
     "evalue": "'datetime.datetime' object has no attribute 'index'",
     "output_type": "error",
     "traceback": [
      "\u001b[0;31m---------------------------------------------------------------------------\u001b[0m",
      "\u001b[0;31mAttributeError\u001b[0m                            Traceback (most recent call last)",
      "\u001b[0;32m<ipython-input-227-775c045e92bc>\u001b[0m in \u001b[0;36m<module>\u001b[0;34m()\u001b[0m\n\u001b[0;32m----> 1\u001b[0;31m \u001b[0mtop_model\u001b[0m\u001b[0;34m.\u001b[0m\u001b[0mpredict\u001b[0m\u001b[0;34m(\u001b[0m\u001b[0mdatetime\u001b[0m\u001b[0;34m.\u001b[0m\u001b[0mdatetime\u001b[0m\u001b[0;34m.\u001b[0m\u001b[0mnow\u001b[0m\u001b[0;34m(\u001b[0m\u001b[0;34m)\u001b[0m\u001b[0;34m)\u001b[0m\u001b[0;34m\u001b[0m\u001b[0m\n\u001b[0m",
      "\u001b[0;32m/anaconda3/lib/python3.6/site-packages/sklearn/utils/metaestimators.py\u001b[0m in \u001b[0;36m<lambda>\u001b[0;34m(*args, **kwargs)\u001b[0m\n\u001b[1;32m    116\u001b[0m \u001b[0;34m\u001b[0m\u001b[0m\n\u001b[1;32m    117\u001b[0m         \u001b[0;31m# lambda, but not partial, allows help() to work with update_wrapper\u001b[0m\u001b[0;34m\u001b[0m\u001b[0;34m\u001b[0m\u001b[0m\n\u001b[0;32m--> 118\u001b[0;31m         \u001b[0mout\u001b[0m \u001b[0;34m=\u001b[0m \u001b[0;32mlambda\u001b[0m \u001b[0;34m*\u001b[0m\u001b[0margs\u001b[0m\u001b[0;34m,\u001b[0m \u001b[0;34m**\u001b[0m\u001b[0mkwargs\u001b[0m\u001b[0;34m:\u001b[0m \u001b[0mself\u001b[0m\u001b[0;34m.\u001b[0m\u001b[0mfn\u001b[0m\u001b[0;34m(\u001b[0m\u001b[0mobj\u001b[0m\u001b[0;34m,\u001b[0m \u001b[0;34m*\u001b[0m\u001b[0margs\u001b[0m\u001b[0;34m,\u001b[0m \u001b[0;34m**\u001b[0m\u001b[0mkwargs\u001b[0m\u001b[0;34m)\u001b[0m\u001b[0;34m\u001b[0m\u001b[0m\n\u001b[0m\u001b[1;32m    119\u001b[0m         \u001b[0;31m# update the docstring of the returned function\u001b[0m\u001b[0;34m\u001b[0m\u001b[0;34m\u001b[0m\u001b[0m\n\u001b[1;32m    120\u001b[0m         \u001b[0mupdate_wrapper\u001b[0m\u001b[0;34m(\u001b[0m\u001b[0mout\u001b[0m\u001b[0;34m,\u001b[0m \u001b[0mself\u001b[0m\u001b[0;34m.\u001b[0m\u001b[0mfn\u001b[0m\u001b[0;34m)\u001b[0m\u001b[0;34m\u001b[0m\u001b[0m\n",
      "\u001b[0;32m/anaconda3/lib/python3.6/site-packages/sklearn/pipeline.py\u001b[0m in \u001b[0;36mpredict\u001b[0;34m(self, X, **predict_params)\u001b[0m\n\u001b[1;32m    329\u001b[0m         \u001b[0;32mfor\u001b[0m \u001b[0mname\u001b[0m\u001b[0;34m,\u001b[0m \u001b[0mtransform\u001b[0m \u001b[0;32min\u001b[0m \u001b[0mself\u001b[0m\u001b[0;34m.\u001b[0m\u001b[0msteps\u001b[0m\u001b[0;34m[\u001b[0m\u001b[0;34m:\u001b[0m\u001b[0;34m-\u001b[0m\u001b[0;36m1\u001b[0m\u001b[0;34m]\u001b[0m\u001b[0;34m:\u001b[0m\u001b[0;34m\u001b[0m\u001b[0m\n\u001b[1;32m    330\u001b[0m             \u001b[0;32mif\u001b[0m \u001b[0mtransform\u001b[0m \u001b[0;32mis\u001b[0m \u001b[0;32mnot\u001b[0m \u001b[0;32mNone\u001b[0m\u001b[0;34m:\u001b[0m\u001b[0;34m\u001b[0m\u001b[0m\n\u001b[0;32m--> 331\u001b[0;31m                 \u001b[0mXt\u001b[0m \u001b[0;34m=\u001b[0m \u001b[0mtransform\u001b[0m\u001b[0;34m.\u001b[0m\u001b[0mtransform\u001b[0m\u001b[0;34m(\u001b[0m\u001b[0mXt\u001b[0m\u001b[0;34m)\u001b[0m\u001b[0;34m\u001b[0m\u001b[0m\n\u001b[0m\u001b[1;32m    332\u001b[0m         \u001b[0;32mreturn\u001b[0m \u001b[0mself\u001b[0m\u001b[0;34m.\u001b[0m\u001b[0msteps\u001b[0m\u001b[0;34m[\u001b[0m\u001b[0;34m-\u001b[0m\u001b[0;36m1\u001b[0m\u001b[0;34m]\u001b[0m\u001b[0;34m[\u001b[0m\u001b[0;34m-\u001b[0m\u001b[0;36m1\u001b[0m\u001b[0;34m]\u001b[0m\u001b[0;34m.\u001b[0m\u001b[0mpredict\u001b[0m\u001b[0;34m(\u001b[0m\u001b[0mXt\u001b[0m\u001b[0;34m,\u001b[0m \u001b[0;34m**\u001b[0m\u001b[0mpredict_params\u001b[0m\u001b[0;34m)\u001b[0m\u001b[0;34m\u001b[0m\u001b[0m\n\u001b[1;32m    333\u001b[0m \u001b[0;34m\u001b[0m\u001b[0m\n",
      "\u001b[0;32m<ipython-input-8-4729ff859898>\u001b[0m in \u001b[0;36mtransform\u001b[0;34m(self, X)\u001b[0m\n\u001b[1;32m     24\u001b[0m \u001b[0;34m\u001b[0m\u001b[0m\n\u001b[1;32m     25\u001b[0m     \u001b[0;32mdef\u001b[0m \u001b[0mtransform\u001b[0m\u001b[0;34m(\u001b[0m\u001b[0mself\u001b[0m\u001b[0;34m,\u001b[0m \u001b[0mX\u001b[0m\u001b[0;34m)\u001b[0m\u001b[0;34m:\u001b[0m\u001b[0;34m\u001b[0m\u001b[0m\n\u001b[0;32m---> 26\u001b[0;31m         \u001b[0;32mreturn\u001b[0m \u001b[0mX\u001b[0m\u001b[0;34m.\u001b[0m\u001b[0mindex\u001b[0m\u001b[0;34m\u001b[0m\u001b[0m\n\u001b[0m",
      "\u001b[0;31mAttributeError\u001b[0m: 'datetime.datetime' object has no attribute 'index'"
     ]
    }
   ],
   "source": [
    "top_model.predict()"
   ]
  },
  {
   "cell_type": "code",
   "execution_count": null,
   "metadata": {},
   "outputs": [],
   "source": []
  }
 ],
 "metadata": {
  "kernelspec": {
   "display_name": "Python 3",
   "language": "python",
   "name": "python3"
  },
  "language_info": {
   "codemirror_mode": {
    "name": "ipython",
    "version": 3
   },
   "file_extension": ".py",
   "mimetype": "text/x-python",
   "name": "python",
   "nbconvert_exporter": "python",
   "pygments_lexer": "ipython3",
   "version": "3.6.5"
  },
  "varInspector": {
   "cols": {
    "lenName": 16,
    "lenType": 16,
    "lenVar": 40
   },
   "kernels_config": {
    "python": {
     "delete_cmd_postfix": "",
     "delete_cmd_prefix": "del ",
     "library": "var_list.py",
     "varRefreshCmd": "print(var_dic_list())"
    },
    "r": {
     "delete_cmd_postfix": ") ",
     "delete_cmd_prefix": "rm(",
     "library": "var_list.r",
     "varRefreshCmd": "cat(var_dic_list()) "
    }
   },
   "oldHeight": 123,
   "position": {
    "height": "145px",
    "left": "851px",
    "right": "165px",
    "top": "122px",
    "width": "350px"
   },
   "types_to_exclude": [
    "module",
    "function",
    "builtin_function_or_method",
    "instance",
    "_Feature"
   ],
   "varInspector_section_display": "block",
   "window_display": false
  }
 },
 "nbformat": 4,
 "nbformat_minor": 2
}
