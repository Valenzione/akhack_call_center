{
 "cells": [
  {
   "cell_type": "code",
   "execution_count": 36,
   "metadata": {
    "ExecuteTime": {
     "end_time": "2018-11-11T10:09:49.535917Z",
     "start_time": "2018-11-11T10:09:49.532413Z"
    }
   },
   "outputs": [],
   "source": [
    "import dashy.models as m\n",
    "import dashy.server as s\n",
    "import requests\n",
    "import json\n",
    "import datetime as dt\n",
    "import time\n",
    "import numpy as np\n",
    "from tqdm import tqdm_notebook"
   ]
  },
  {
   "cell_type": "code",
   "execution_count": 139,
   "metadata": {
    "ExecuteTime": {
     "end_time": "2018-11-11T12:29:40.716731Z",
     "start_time": "2018-11-11T12:29:40.650307Z"
    }
   },
   "outputs": [
    {
     "data": {
      "text/html": [
       "<div>\n",
       "<style scoped>\n",
       "    .dataframe tbody tr th:only-of-type {\n",
       "        vertical-align: middle;\n",
       "    }\n",
       "\n",
       "    .dataframe tbody tr th {\n",
       "        vertical-align: top;\n",
       "    }\n",
       "\n",
       "    .dataframe thead th {\n",
       "        text-align: right;\n",
       "    }\n",
       "</style>\n",
       "<table border=\"1\" class=\"dataframe\">\n",
       "  <thead>\n",
       "    <tr style=\"text-align: right;\">\n",
       "      <th></th>\n",
       "      <th>calls_in</th>\n",
       "      <th>calls_proc</th>\n",
       "      <th>calls_lost</th>\n",
       "      <th>mean_response_time</th>\n",
       "      <th>mean_call_time</th>\n",
       "      <th>mean_operators</th>\n",
       "      <th>max_operators</th>\n",
       "    </tr>\n",
       "    <tr>\n",
       "      <th>date</th>\n",
       "      <th></th>\n",
       "      <th></th>\n",
       "      <th></th>\n",
       "      <th></th>\n",
       "      <th></th>\n",
       "      <th></th>\n",
       "      <th></th>\n",
       "    </tr>\n",
       "  </thead>\n",
       "  <tbody>\n",
       "    <tr>\n",
       "      <th>2017-03-01</th>\n",
       "      <td>2142</td>\n",
       "      <td>1875</td>\n",
       "      <td>264</td>\n",
       "      <td>84</td>\n",
       "      <td>123</td>\n",
       "      <td>5</td>\n",
       "      <td>10</td>\n",
       "    </tr>\n",
       "    <tr>\n",
       "      <th>2017-03-02</th>\n",
       "      <td>1781</td>\n",
       "      <td>1736</td>\n",
       "      <td>43</td>\n",
       "      <td>23</td>\n",
       "      <td>117</td>\n",
       "      <td>6</td>\n",
       "      <td>11</td>\n",
       "    </tr>\n",
       "    <tr>\n",
       "      <th>2017-03-03</th>\n",
       "      <td>1785</td>\n",
       "      <td>1653</td>\n",
       "      <td>126</td>\n",
       "      <td>49</td>\n",
       "      <td>114</td>\n",
       "      <td>5</td>\n",
       "      <td>10</td>\n",
       "    </tr>\n",
       "    <tr>\n",
       "      <th>2017-03-04</th>\n",
       "      <td>1073</td>\n",
       "      <td>1024</td>\n",
       "      <td>41</td>\n",
       "      <td>28</td>\n",
       "      <td>121</td>\n",
       "      <td>4</td>\n",
       "      <td>6</td>\n",
       "    </tr>\n",
       "    <tr>\n",
       "      <th>2017-03-05</th>\n",
       "      <td>572</td>\n",
       "      <td>559</td>\n",
       "      <td>4</td>\n",
       "      <td>8</td>\n",
       "      <td>106</td>\n",
       "      <td>3</td>\n",
       "      <td>4</td>\n",
       "    </tr>\n",
       "  </tbody>\n",
       "</table>\n",
       "</div>"
      ],
      "text/plain": [
       "            calls_in  calls_proc  calls_lost  mean_response_time  \\\n",
       "date                                                               \n",
       "2017-03-01      2142        1875         264                  84   \n",
       "2017-03-02      1781        1736          43                  23   \n",
       "2017-03-03      1785        1653         126                  49   \n",
       "2017-03-04      1073        1024          41                  28   \n",
       "2017-03-05       572         559           4                   8   \n",
       "\n",
       "            mean_call_time  mean_operators  max_operators  \n",
       "date                                                       \n",
       "2017-03-01             123               5             10  \n",
       "2017-03-02             117               6             11  \n",
       "2017-03-03             114               5             10  \n",
       "2017-03-04             121               4              6  \n",
       "2017-03-05             106               3              4  "
      ]
     },
     "execution_count": 139,
     "metadata": {},
     "output_type": "execute_result"
    }
   ],
   "source": [
    "data = pd.read_csv(\"train.csv\", encoding=\"WINDOWS-1251\", sep=\";\",  header=None,\n",
    "                   names=[\"date\", \"calls_in\", \"calls_proc\", \"calls_lost\", \"mean_response_time\", \"mean_call_time\", \"mean_operators\", \"max_operators\"])\n",
    "data.drop(0, inplace=True)\n",
    "data.set_index(\"date\", inplace=True)\n",
    "data = data.astype(np.int)\n",
    "data.index = pd.to_datetime(data.index, dayfirst=True)\n",
    "data.head(5)"
   ]
  },
  {
   "cell_type": "code",
   "execution_count": 48,
   "metadata": {
    "ExecuteTime": {
     "end_time": "2018-11-11T10:30:09.222668Z",
     "start_time": "2018-11-11T10:30:09.219781Z"
    }
   },
   "outputs": [],
   "source": [
    "from influxdb import InfluxDBClient\n",
    "client = InfluxDBClient('localhost', 8086, 'root', 'root', 'example')"
   ]
  },
  {
   "cell_type": "code",
   "execution_count": 154,
   "metadata": {
    "ExecuteTime": {
     "end_time": "2018-11-12T10:52:30.352721Z",
     "start_time": "2018-11-11T19:14:11.390236Z"
    }
   },
   "outputs": [
    {
     "data": {
      "application/vnd.jupyter.widget-view+json": {
       "model_id": "a3334daa080d4fd7b21ff9247e229d1f",
       "version_major": 2,
       "version_minor": 0
      },
      "text/plain": [
       "HBox(children=(IntProgress(value=1, bar_style='info', max=1), HTML(value='')))"
      ]
     },
     "metadata": {},
     "output_type": "display_data"
    }
   ],
   "source": [
    "# Ensure DB is cleean\n",
    "client.drop_measurement(\"calls_in\")\n",
    "client.drop_measurement(\"calls_in_model_retrain\")\n",
    "client.drop_measurement(\"calls_in_predictions\")\n",
    "client.drop_measurement(\"mean_response_time\")\n",
    "client.drop_measurement(\"calls_lost\")\n",
    "client.drop_measurement(\"calls_proc\")\n",
    "\n",
    "# Push data to our service\n",
    "for datetime, x in tqdm_notebook(data.iterrows()):\n",
    "    body = json.dumps({\"type\":\"calls_in\", \"value\": float(x['calls_in']), \"datetime\": str(datetime)})\n",
    "    requests.post(\"http://127.0.0.1:5000/callcenter/api/v1.0/metric\", json=body)\n",
    "    body = json.dumps({\"type\":\"calls_proc\", \"value\": float(x['calls_proc']), \"datetime\": str(datetime)})\n",
    "    requests.post(\"http://127.0.0.1:5000/callcenter/api/v1.0/metric\", json=body)\n",
    "    body = json.dumps({\"type\":\"calls_lost\", \"value\": float(x['calls_lost']), \"datetime\": str(datetime)})\n",
    "    requests.post(\"http://127.0.0.1:5000/callcenter/api/v1.0/metric\", json=body)\n",
    "    body = json.dumps({\"type\":\"mean_response_time\", \"value\": float(x['mean_response_time']), \"datetime\": str(datetime)})\n",
    "    requests.post(\"http://127.0.0.1:5000/callcenter/api/v1.0/metric\", json=body)"
   ]
  },
  {
   "cell_type": "code",
   "execution_count": null,
   "metadata": {},
   "outputs": [],
   "source": []
  }
 ],
 "metadata": {
  "kernelspec": {
   "display_name": "Python 3",
   "language": "python",
   "name": "python3"
  },
  "language_info": {
   "codemirror_mode": {
    "name": "ipython",
    "version": 3
   },
   "file_extension": ".py",
   "mimetype": "text/x-python",
   "name": "python",
   "nbconvert_exporter": "python",
   "pygments_lexer": "ipython3",
   "version": "3.6.5"
  }
 },
 "nbformat": 4,
 "nbformat_minor": 2
}
